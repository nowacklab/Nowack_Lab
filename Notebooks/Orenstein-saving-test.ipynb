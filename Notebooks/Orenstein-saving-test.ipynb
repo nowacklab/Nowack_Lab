{
 "cells": [
  {
   "cell_type": "code",
   "execution_count": 1,
   "metadata": {},
   "outputs": [
    {
     "name": "stderr",
     "output_type": "stream",
     "text": [
      "C:\\ProgramData\\Anaconda3\\lib\\site-packages\\h5py\\__init__.py:36: FutureWarning: Conversion of the second argument of issubdtype from `float` to `np.floating` is deprecated. In future, it will be treated as `np.float64 == np.dtype(float).type`.\n",
      "  from ._conv import register_converters as _register_converters\n"
     ]
    },
    {
     "name": "stdout",
     "output_type": "stream",
     "text": [
      "Current experimental save paths:\n",
      "D:\\data\\Orenstein\\experiments\\2022-06-20_Orenstein-saving-test\n",
      "Current experiment: 2022-06-20_Orenstein-saving-test-SAMBA-ok\n",
      "New experiment? y/(n): n\n"
     ]
    }
   ],
   "source": [
    "from Nowack_Lab.Utilities import multih5\n",
    "import numpy as np\n",
    "from os.path import basename"
   ]
  },
  {
   "cell_type": "markdown",
   "metadata": {},
   "source": [
    "## Measurement and saving"
   ]
  },
  {
   "cell_type": "code",
   "execution_count": 2,
   "metadata": {},
   "outputs": [],
   "source": [
    "def add_scale(f, name, unit, x):\n",
    "    path = 'scales/{}'.format(name)\n",
    "    f[path] = x\n",
    "    f[path].attrs['unit'] = unit\n",
    "    return f[path]"
   ]
  },
  {
   "cell_type": "code",
   "execution_count": 3,
   "metadata": {},
   "outputs": [
    {
     "name": "stderr",
     "output_type": "stream",
     "text": [
      "C:\\ProgramData\\Anaconda3\\lib\\site-packages\\pyvisa\\resources\\messagebased.py:573: FutureWarning: ask is deprecated and will be removed in 1.10, use query instead.\n",
      "  '1.10, use query instead.', FutureWarning)\n"
     ]
    }
   ],
   "source": [
    "from Nowack_Lab.Instruments.keithley import Keithley2450\n",
    "instruments = {\n",
    "    'Keithley 2450': Keithley2450(),\n",
    "}"
   ]
  },
  {
   "cell_type": "code",
   "execution_count": 8,
   "metadata": {},
   "outputs": [
    {
     "name": "stdout",
     "output_type": "stream",
     "text": [
      "D:\\data\\Orenstein\\experiments\\2022-06-20_Orenstein-saving-test\\2022-06-20_175052_test-multih5.hdf5\n"
     ]
    },
    {
     "name": "stderr",
     "output_type": "stream",
     "text": [
      "C:\\ProgramData\\Anaconda3\\lib\\site-packages\\pyvisa\\resources\\messagebased.py:573: FutureWarning: ask is deprecated and will be removed in 1.10, use query instead.\n",
      "  '1.10, use query instead.', FutureWarning)\n"
     ]
    }
   ],
   "source": [
    "filenames = []\n",
    "with multih5.Files('test-multih5', 'w',\n",
    "                   libver = 'latest',\n",
    "                  ) as fs:\n",
    "    for f in fs:\n",
    "        filenames.append(f.filename)\n",
    "        \n",
    "        # Metadata\n",
    "        f.attrs['name'] = 'Test file'\n",
    "        f.attrs['author/name'] = 'Alex Striff'\n",
    "        f.attrs['author/email'] = 'abs299@cornell.edu'\n",
    "        f.attrs['description'] = \\\n",
    "        '''\n",
    "        A file to test saving sweeps automatically.\n",
    "        '''\n",
    "        f.attrs['format'] = \\\n",
    "        '''\n",
    "        Dataset dimension label <x> is the sweep of scales/<x>.\n",
    "        Units are given in the 'unit' attribute.\n",
    "        '''\n",
    "        \n",
    "        # Initial instrument states\n",
    "        for name, instrument in instruments.items():\n",
    "            for k, v in instrument.__getstate__().items():\n",
    "                f['instruments/{}/{}'.format(name, k)] = v\n",
    "        \n",
    "        # Sweep scales\n",
    "        vas, vbs = scales = [\n",
    "            add_scale(f, 'Voltage A', 'V', np.arange(0, 1, 0.1)),\n",
    "            add_scale(f, 'Voltage B', 'V', np.arange(0, 1, 0.1)),\n",
    "        ]\n",
    "        shape = tuple(scale.shape[0] for scale in scales)\n",
    "        \n",
    "        # Sweep variables\n",
    "        x = f.create_dataset('x', shape)\n",
    "        x.attrs['description'] = 'X value of the fubar'\n",
    "        x.attrs['unit'] = 'X'\n",
    "        for i, s in enumerate(scales):\n",
    "            x.dims[i].label = basename(s.name)\n",
    "            \n",
    "        f.swmr_mode = True # Now we should only modify data\n",
    "        \n",
    "        for iva, va in enumerate(vas):\n",
    "            # set va\n",
    "            for ivb, vb in enumerate(vbs):\n",
    "                # set vb\n",
    "                f['x'][iva,ivb] = np.random.rand()"
   ]
  },
  {
   "cell_type": "markdown",
   "metadata": {},
   "source": [
    "## Plotting"
   ]
  },
  {
   "cell_type": "code",
   "execution_count": 6,
   "metadata": {},
   "outputs": [],
   "source": [
    "import h5py as h5\n",
    "import matplotlib.pyplot as plt\n",
    "import matplotlib.cm as cm"
   ]
  },
  {
   "cell_type": "code",
   "execution_count": 29,
   "metadata": {},
   "outputs": [
    {
     "data": {
      "image/png": "[encoded data removed]",
      "text/plain": [
       "<Figure size 432x288 with 2 Axes>"
      ]
     },
     "metadata": {},
     "output_type": "display_data"
    }
   ],
   "source": [
    "plotfile = filenames[0]\n",
    "with h5.File(plotfile,\n",
    "             'r',\n",
    "             libver = 'latest',\n",
    "             swmr = True,\n",
    "            ) as f:\n",
    "    # Assume 2D data in x\n",
    "    x = f['x']\n",
    "    labels = [d.label for d in x.dims]\n",
    "    scales = [f['scales/{}'.format(l)] for l in labels]\n",
    "    scaledata = [s[:] for s in scales]\n",
    "    scaleunits = [s.attrs['unit'] for s in scales]\n",
    "    scalelabels = ['{} ({})'.format(l, u) for l, u in zip(labels, scaleunits)]\n",
    "    \n",
    "    plt.imshow(x,\n",
    "               extent = (\n",
    "                   scaledata[-2].min(), scaledata[-2].max(),\n",
    "                   scaledata[-1].min(), scaledata[-1].max(),\n",
    "               ),\n",
    "               cmap = cm.RdBu,\n",
    "              )\n",
    "    plt.title('\\n'.join([\n",
    "        x.attrs['description'],\n",
    "        f.attrs['name'],\n",
    "        f.attrs['description'],\n",
    "        plotfile,\n",
    "        '',\n",
    "    ]))\n",
    "    plt.xlabel(scalelabels[-2])\n",
    "    plt.ylabel(scalelabels[-1])\n",
    "    plt.colorbar()\n",
    "    plt.show()"
   ]
  }
 ],
 "metadata": {
  "kernelspec": {
   "display_name": "Python 3",
   "language": "python",
   "name": "python3"
  },
  "language_info": {
   "codemirror_mode": {
    "name": "ipython",
    "version": 3
   },
   "file_extension": ".py",
   "mimetype": "text/x-python",
   "name": "python",
   "nbconvert_exporter": "python",
   "pygments_lexer": "ipython3",
   "version": "3.6.5"
  }
 },
 "nbformat": 4,
 "nbformat_minor": 2
}
