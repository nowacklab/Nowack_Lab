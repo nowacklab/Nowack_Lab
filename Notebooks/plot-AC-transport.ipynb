{
 "cells": [
  {
   "cell_type": "code",
   "execution_count": 70,
   "metadata": {},
   "outputs": [],
   "source": [
    "using HDF5\n",
    "using Plots\n",
    "using Statistics\n",
    "using Measurements"
   ]
  },
  {
   "cell_type": "code",
   "execution_count": 194,
   "metadata": {},
   "outputs": [
    {
     "data": {
      "text/plain": [
       "11865-element BitVector:\n",
       " 0\n",
       " 0\n",
       " 0\n",
       " 0\n",
       " 0\n",
       " 0\n",
       " 0\n",
       " 0\n",
       " 0\n",
       " 0\n",
       " 0\n",
       " 0\n",
       " 0\n",
       " ⋮\n",
       " 0\n",
       " 0\n",
       " 0\n",
       " 0\n",
       " 0\n",
       " 0\n",
       " 1\n",
       " 0\n",
       " 0\n",
       " 0\n",
       " 0\n",
       " 0"
      ]
     },
     "execution_count": 194,
     "metadata": {},
     "output_type": "execute_result"
    }
   ],
   "source": [
    "datafile = \"Nowack_Lab_data\\\\2022-10-15_PPMS-AC-resistance\\\\2022-10-15_195402_PPMS-AC-resistance.hdf5\"\n",
    "h5open(datafile, \"r\"; swmr=true) do f\n",
    "    t0 = f[\"/zurich/initial_timestamp\"][]\n",
    "    tb = f[\"/zurich/dev505/clockbase\"][]\n",
    "    Rb = f[\"/setup/bias_resistance\"][]\n",
    "    tV = f[\"/data/zurich/dev505/demods/0/sample/timestamp\"][:]\n",
    "    tI = f[\"/data/zurich/dev505/demods/1/sample/timestamp\"][:]\n",
    "    Vx = f[\"/data/zurich/dev505/demods/0/sample/x\"][:]\n",
    "    Vy = f[\"/data/zurich/dev505/demods/0/sample/y\"][:]\n",
    "    Ix = f[\"/data/zurich/dev505/demods/1/sample/x\"][:]\n",
    "    Iy = f[\"/data/zurich/dev505/demods/1/sample/y\"][:]\n",
    "\n",
    "    # Hack: I know that V comes before I from the subscribe order.\n",
    "    i = findfirst(tI .== tV[1])\n",
    "    j = findlast(tV .== tI[end])\n",
    "\n",
    "#     Vx = Vx[i:end]\n",
    "#     Vy = Vy[i:end]\n",
    "#     tV = tV[i:end]\n",
    "#     Ix = Ix[1:j]\n",
    "#     Iy = Iy[1:j]\n",
    "#     tI = tI[1:j]\n",
    "\n",
    "#     display(tV)\n",
    "#     display(tI)\n",
    "    tV .== tI[end]\n",
    "    \n",
    "#     t = (tV .- t0) ./ tb\n",
    "#     Vr = sqrt.(Vx.^2 .+ Vy.^2)\n",
    "#     Ir = sqrt.(Ix.^2 .+ Iy.^2) ./ Rb\n",
    "#     R = Vr ./ Ir\n",
    "#     plot(t, R;\n",
    "#         xlabel = \"t (s)\",\n",
    "#         ylabel = \"R (Ω)\",\n",
    "#         key = false,\n",
    "#     )\n",
    "end"
   ]
  }
 ],
 "metadata": {
  "kernelspec": {
   "display_name": "Julia 1.8.2",
   "language": "julia",
   "name": "julia-1.8"
  },
  "language_info": {
   "file_extension": ".jl",
   "mimetype": "application/julia",
   "name": "julia",
   "version": "1.8.2"
  }
 },
 "nbformat": 4,
 "nbformat_minor": 2
}
