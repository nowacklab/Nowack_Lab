{
 "cells": [
  {
   "cell_type": "code",
   "execution_count": 1,
   "metadata": {},
   "outputs": [
    {
     "name": "stderr",
     "output_type": "stream",
     "text": [
      "C:\\ProgramData\\Anaconda3\\lib\\site-packages\\h5py\\__init__.py:36: FutureWarning: Conversion of the second argument of issubdtype from `float` to `np.floating` is deprecated. In future, it will be treated as `np.float64 == np.dtype(float).type`.\n",
      "  from ._conv import register_converters as _register_converters\n"
     ]
    },
    {
     "name": "stdout",
     "output_type": "stream",
     "text": [
      "Current experimental save paths:\n",
      "D:\\data\\Orenstein\\experiments\\2022-06-24_RF-SQUID-modulation\n",
      "Z:\\data\\DESKTOP-6212UG8\\experiments\\2022-06-24_RF-SQUID-modulation\n",
      "Current experiment: 2022-06-24_RF-SQUID-modulation\n",
      "New experiment? y/(n): n\n"
     ]
    }
   ],
   "source": [
    "from Nowack_Lab.Utilities import multih5\n",
    "import numpy as np\n",
    "from os.path import basename\n",
    "import time\n",
    "import yaml"
   ]
  },
  {
   "cell_type": "markdown",
   "metadata": {},
   "source": [
    "## Measurement and saving"
   ]
  },
  {
   "cell_type": "code",
   "execution_count": 2,
   "metadata": {},
   "outputs": [],
   "source": [
    "import Nowack_Lab.Instruments.keithley as keithley\n",
    "import Nowack_Lab.Instruments.hp8753d as hp8753d\n",
    "keithley2450 = keithley.Keithley2450()"
   ]
  },
  {
   "cell_type": "code",
   "execution_count": 39,
   "metadata": {},
   "outputs": [],
   "source": [
    "vna = hp8753d.VNA8753D()\n",
    "instruments = {\n",
    "    'keithley': keithley2450,\n",
    "    'vna': vna,\n",
    "}"
   ]
  },
  {
   "cell_type": "code",
   "execution_count": 4,
   "metadata": {},
   "outputs": [],
   "source": [
    "# For now, metadata must not have nested objects\n",
    "metadata = yaml.safe_load('''\n",
    "name: RF SQUID modulation\n",
    "author name: Alex Striff\n",
    "author email: abs299@cornell.edu\n",
    "description: >\n",
    "  Sweep of $S_{21}$ in field coil current and frequency for new RF SQUID\n",
    "  (the top-left SQUID found in tilted label \"RF SQUID\" box).\n",
    "  \n",
    "  Keithley Connections:\n",
    "    Source current through FC2 and FC3.\n",
    "  \n",
    "  VNA Connections:\n",
    "    port1-coax(male)-coax(male)-probe1\n",
    "    probe2-coax(male)-coax(male)-SMA(female-female)-SMA(male-male)-port2\n",
    "  \n",
    "  The extra connectors on port 2 were added because port 2 of the VNA is\n",
    "  slightly damaged and wiggly from use over the years.\n",
    "format: >\n",
    "  Dataset dimension label <x> is the sweep of scales/<x>.\n",
    "  Units are given in the 'unit' attribute.\n",
    "''')"
   ]
  },
  {
   "cell_type": "code",
   "execution_count": 40,
   "metadata": {},
   "outputs": [],
   "source": [
    "initial_configuration = yaml.safe_load('''\n",
    "keithley:\n",
    "  source: 'I'\n",
    "  Iout_range: 1.0e-3 #A\n",
    "  V_compliance: 5.0 #V\n",
    "  output: 'on'\n",
    "  Iout: 0.0e-3 #A\n",
    "vna:\n",
    "  networkparam: 'S21'\n",
    "  power: -30.0 #dBm\n",
    "  power_range_auto: False\n",
    "  minfreq: 1.0e+9 #Hz\n",
    "  maxfreq: 6.0e+9 #Hz\n",
    "  sweeptime: 5.5 #s\n",
    "  sweepmode: 'LIN'\n",
    "  numpoints: 1601\n",
    "  averaging_state: 0 #off\n",
    "  averaging_factor: 5\n",
    "  IF_bandwidth: 300 #Hz\n",
    "''')"
   ]
  },
  {
   "cell_type": "code",
   "execution_count": 41,
   "metadata": {},
   "outputs": [],
   "source": [
    "for instrument, settings in initial_configuration.items():\n",
    "    i = instruments[instrument]\n",
    "    for k, v in settings.items():\n",
    "        setattr(i, k, v)"
   ]
  },
  {
   "cell_type": "markdown",
   "metadata": {},
   "source": [
    "There is sometimes a jump on the lowest frequency, so do one throwaway sweep before taking data."
   ]
  },
  {
   "cell_type": "code",
   "execution_count": 47,
   "metadata": {},
   "outputs": [],
   "source": [
    "vna.source_power_on = True\n",
    "vna.write('SING')"
   ]
  },
  {
   "cell_type": "code",
   "execution_count": 84,
   "metadata": {},
   "outputs": [],
   "source": [
    "keithley2450.Iout = 0.1e-3"
   ]
  },
  {
   "cell_type": "code",
   "execution_count": 87,
   "metadata": {},
   "outputs": [],
   "source": [
    "keithley2450.Iout = 0.0e-3"
   ]
  },
  {
   "cell_type": "code",
   "execution_count": 85,
   "metadata": {},
   "outputs": [
    {
     "data": {
      "text/plain": [
       "8.631161e-06"
      ]
     },
     "execution_count": 85,
     "metadata": {},
     "output_type": "execute_result"
    }
   ],
   "source": [
    "keithley2450.I"
   ]
  },
  {
   "cell_type": "code",
   "execution_count": 66,
   "metadata": {},
   "outputs": [
    {
     "data": {
      "text/plain": [
       "587426.787530903"
      ]
     },
     "execution_count": 66,
     "metadata": {},
     "output_type": "execute_result"
    }
   ],
   "source": [
    "keithley2450.V_compliance / keithley2450.I"
   ]
  },
  {
   "cell_type": "code",
   "execution_count": 64,
   "metadata": {},
   "outputs": [],
   "source": [
    "def add_scale(f, name, unit, x):\n",
    "    path = 'scales/{}'.format(name)\n",
    "    f[path] = x\n",
    "    f[path].attrs['unit'] = unit\n",
    "    return x"
   ]
  },
  {
   "cell_type": "code",
   "execution_count": 95,
   "metadata": {},
   "outputs": [
    {
     "name": "stdout",
     "output_type": "stream",
     "text": [
      "D:\\data\\Orenstein\\experiments\\2022-06-24_RF-SQUID-modulation\\2022-06-25_142121_rf-squid-modulation.hdf5\n",
      "Z:\\data\\DESKTOP-6212UG8\\experiments\\2022-06-24_RF-SQUID-modulation\\2022-06-25_142121_rf-squid-modulation.hdf5\n"
     ]
    },
    {
     "ename": "ValueError",
     "evalue": "Power should be between -10 and -80 dBm",
     "output_type": "error",
     "traceback": [
      "\u001b[1;31m---------------------------------------------------------------------------\u001b[0m",
      "\u001b[1;31mValueError\u001b[0m                                Traceback (most recent call last)",
      "\u001b[1;32m<ipython-input-95-727fa3f32cfd>\u001b[0m in \u001b[0;36m<module>\u001b[1;34m()\u001b[0m\n\u001b[0;32m     55\u001b[0m \u001b[1;31m#         time.sleep(0.1) #s\u001b[0m\u001b[1;33m\u001b[0m\u001b[1;33m\u001b[0m\u001b[0m\n\u001b[0;32m     56\u001b[0m     \u001b[1;32mfor\u001b[0m \u001b[0mi\u001b[0m\u001b[1;33m,\u001b[0m \u001b[0mP\u001b[0m \u001b[1;32min\u001b[0m \u001b[0menumerate\u001b[0m\u001b[1;33m(\u001b[0m\u001b[0mpowers\u001b[0m\u001b[1;33m[\u001b[0m\u001b[1;36m2\u001b[0m\u001b[1;33m]\u001b[0m\u001b[1;33m)\u001b[0m\u001b[1;33m:\u001b[0m\u001b[1;33m\u001b[0m\u001b[0m\n\u001b[1;32m---> 57\u001b[1;33m         \u001b[0minstruments\u001b[0m\u001b[1;33m[\u001b[0m\u001b[1;34m'vna'\u001b[0m\u001b[1;33m]\u001b[0m\u001b[1;33m.\u001b[0m\u001b[0mpower\u001b[0m \u001b[1;33m=\u001b[0m \u001b[0mP\u001b[0m\u001b[1;33m\u001b[0m\u001b[0m\n\u001b[0m\u001b[0;32m     58\u001b[0m         \u001b[0mtime\u001b[0m\u001b[1;33m.\u001b[0m\u001b[0msleep\u001b[0m\u001b[1;33m(\u001b[0m\u001b[1;36m0.1\u001b[0m\u001b[1;33m)\u001b[0m \u001b[1;31m#s\u001b[0m\u001b[1;33m\u001b[0m\u001b[0m\n\u001b[0;32m     59\u001b[0m         \u001b[1;31m# Freq sweep returns the sweep array\u001b[0m\u001b[1;33m\u001b[0m\u001b[1;33m\u001b[0m\u001b[0m\n",
      "\u001b[1;32m~\\Documents\\GitHub\\Nowack_Lab\\Instruments\\hp8753d.py\u001b[0m in \u001b[0;36mpower\u001b[1;34m(self, value)\u001b[0m\n\u001b[0;32m     98\u001b[0m         \u001b[1;32massert\u001b[0m \u001b[0mtype\u001b[0m\u001b[1;33m(\u001b[0m\u001b[0mvalue\u001b[0m\u001b[1;33m)\u001b[0m \u001b[1;32mis\u001b[0m \u001b[0mfloat\u001b[0m \u001b[1;32mor\u001b[0m \u001b[0mint\u001b[0m\u001b[1;33m\u001b[0m\u001b[0m\n\u001b[0;32m     99\u001b[0m         \u001b[1;32mif\u001b[0m \u001b[0mvalue\u001b[0m \u001b[1;33m<\u001b[0m \u001b[1;33m-\u001b[0m\u001b[1;36m80.0\u001b[0m \u001b[1;32mor\u001b[0m \u001b[1;33m-\u001b[0m\u001b[1;36m10.0\u001b[0m \u001b[1;33m<\u001b[0m \u001b[0mvalue\u001b[0m\u001b[1;33m:\u001b[0m\u001b[1;33m\u001b[0m\u001b[0m\n\u001b[1;32m--> 100\u001b[1;33m             \u001b[1;32mraise\u001b[0m \u001b[0mValueError\u001b[0m\u001b[1;33m(\u001b[0m\u001b[1;34m'Power should be between -10 and -80 dBm'\u001b[0m\u001b[1;33m)\u001b[0m\u001b[1;33m\u001b[0m\u001b[0m\n\u001b[0m\u001b[0;32m    101\u001b[0m \u001b[1;33m\u001b[0m\u001b[0m\n\u001b[0;32m    102\u001b[0m         \u001b[0mr\u001b[0m \u001b[1;33m=\u001b[0m \u001b[0mself\u001b[0m\u001b[1;33m.\u001b[0m\u001b[0mpower_range\u001b[0m\u001b[1;33m\u001b[0m\u001b[0m\n",
      "\u001b[1;31mValueError\u001b[0m: Power should be between -10 and -80 dBm"
     ]
    }
   ],
   "source": [
    "filenames = []\n",
    "with multih5.Files('rf-new-squid-modulation', 'w',\n",
    "                   libver = 'latest',\n",
    "                  ) as fs:\n",
    "    for f in fs:\n",
    "        filenames.append(f.filename)\n",
    "        \n",
    "        # Write metadata\n",
    "        for k, v in metadata.items():\n",
    "            f.attrs[k] = v\n",
    "        \n",
    "    # Initial instrument states\n",
    "    for name, instrument in instruments.items():\n",
    "        for k, v in instrument.__getstate__().items():\n",
    "            for f in fs:\n",
    "                f['instruments/{}/{}'.format(name, k)] = v\n",
    "\n",
    "    # Keithley 2450 needs some time, or else setting current doesn't work\n",
    "    time.sleep(0.1) #s\n",
    "\n",
    "    # Sweep scales\n",
    "    currents, freqs = scales = [\n",
    "        ('Field coil current', 'A', np.arange(0, 0.4e-3, 0.1e-3)),\n",
    "#     powers, freqs = scales = [\n",
    "#         ('Source power', 'dBm', np.linspace(\n",
    "#             -12.0, -7.0,\n",
    "#             num = 21,\n",
    "#         )),\n",
    "        ('Frequency', 'Hz', vna.frequencies()),\n",
    "    ]\n",
    "    for f in fs:\n",
    "        for scale in scales:\n",
    "            add_scale(f, *scale)\n",
    "    shape = tuple(len(scale[2]) for scale in scales)\n",
    "\n",
    "    # Sweep variables\n",
    "    for f in fs:\n",
    "        re = f.create_dataset('S21_re', shape)\n",
    "        re.attrs['description'] = '$\\Re S_{21}$'\n",
    "        re.attrs['unit'] = 'U'\n",
    "        \n",
    "        im = f.create_dataset('S21_im', shape)\n",
    "        im.attrs['description'] = '$\\Im S_{21}$'\n",
    "        im.attrs['unit'] = 'U'\n",
    "        \n",
    "        datasets = [re, im]\n",
    "        for x in datasets:\n",
    "            for i, scale in enumerate(scales):\n",
    "                x.dims[i].label = basename(scale[0])\n",
    "            \n",
    "        f.swmr_mode = True # Now we should only modify data\n",
    "\n",
    "    for i, I in enumerate(currents[2]):\n",
    "        instruments['keithley'].Iout = I\n",
    "        time.sleep(0.1) #s\n",
    "#     for i, P in enumerate(powers[2]):\n",
    "#         instruments['vna'].power = P\n",
    "#         time.sleep(0.1) #s\n",
    "        # Freq sweep returns the sweep array\n",
    "        S21_reim = instruments['vna'].reim()\n",
    "        for f in fs:\n",
    "            f['S21_re'][i,:] = S21_reim[0,:]\n",
    "            f['S21_im'][i,:] = S21_reim[1,:]"
   ]
  },
  {
   "cell_type": "markdown",
   "metadata": {},
   "source": [
    "## Plotting"
   ]
  },
  {
   "cell_type": "code",
   "execution_count": 96,
   "metadata": {},
   "outputs": [],
   "source": [
    "import h5py as h5\n",
    "import matplotlib.pyplot as plt\n",
    "import matplotlib.cm as cm\n",
    "from pathlib import Path"
   ]
  },
  {
   "cell_type": "code",
   "execution_count": 99,
   "metadata": {},
   "outputs": [
    {
     "name": "stderr",
     "output_type": "stream",
     "text": [
      "C:\\ProgramData\\Anaconda3\\lib\\site-packages\\ipykernel_launcher.py:14: RuntimeWarning: invalid value encountered in sqrt\n",
      "  \n",
      "C:\\ProgramData\\Anaconda3\\lib\\site-packages\\ipykernel_launcher.py:14: RuntimeWarning: divide by zero encountered in log10\n",
      "  \n"
     ]
    },
    {
     "data": {
      "image/png": "[encoded data removed]",
      "text/plain": [
       "<Figure size 432x288 with 2 Axes>"
      ]
     },
     "metadata": {},
     "output_type": "display_data"
    }
   ],
   "source": [
    "plotfile = filenames[0]\n",
    "with h5.File(plotfile,\n",
    "             'r',\n",
    "             libver = 'latest',\n",
    "             swmr = True,\n",
    "            ) as f:\n",
    "    # Assume 2D data in x\n",
    "    x, y = f['S21_re'], f['S21_im']\n",
    "    labels = [d.label for d in x.dims]\n",
    "    scales = [f['scales/{}'.format(l)] for l in labels]\n",
    "    scaledata = [s[:] for s in scales]\n",
    "    scaleunits = [s.attrs['unit'] for s in scales]\n",
    "    scalelabels = ['{} ({})'.format(l, u) for l, u in zip(labels, scaleunits)]\n",
    "    plt.imshow(np.transpose(20*np.log10(np.sqrt(x[:]**2 + y[:]**2))),\n",
    "               origin = 'lower',\n",
    "               extent = (\n",
    "                   scaledata[-2].min(), scaledata[-2].max(),\n",
    "                   scaledata[-1].min(), scaledata[-1].max(),\n",
    "               ),\n",
    "               cmap = cm.viridis,\n",
    "               aspect = 'auto',\n",
    "              )\n",
    "    plt.title('\\n'.join([\n",
    "        \"$S_{21}$\",\n",
    "        f.attrs['name'],\n",
    "        f.attrs['description'],\n",
    "        *filenames,\n",
    "        '',''\n",
    "    ]))\n",
    "    plt.xlabel(scalelabels[-2])\n",
    "    plt.ylabel(scalelabels[-1])\n",
    "    cb = plt.colorbar()\n",
    "    cb.ax.set_title('{} ({})'.format('$S_{21}$', 'dB'))\n",
    "    \n",
    "    for file in filenames:\n",
    "        plt.savefig(Path(file).with_suffix('.pdf'),\n",
    "                    dpi = 600,\n",
    "                    bbox_inches='tight',\n",
    "                   )\n",
    "    plt.show()"
   ]
  }
 ],
 "metadata": {
  "kernelspec": {
   "display_name": "Python 3",
   "language": "python",
   "name": "python3"
  },
  "language_info": {
   "codemirror_mode": {
    "name": "ipython",
    "version": 3
   },
   "file_extension": ".py",
   "mimetype": "text/x-python",
   "name": "python",
   "nbconvert_exporter": "python",
   "pygments_lexer": "ipython3",
   "version": "3.6.5"
  }
 },
 "nbformat": 4,
 "nbformat_minor": 2
}
