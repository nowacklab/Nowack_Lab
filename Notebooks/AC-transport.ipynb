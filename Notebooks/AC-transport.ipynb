{
 "cells": [
  {
   "cell_type": "code",
   "execution_count": 18,
   "metadata": {},
   "outputs": [],
   "source": [
    "from Nowack_Lab.Utilities import multih5\n",
    "import numpy as np\n",
    "from os.path import basename\n",
    "import time\n",
    "import yaml"
   ]
  },
  {
   "cell_type": "markdown",
   "metadata": {},
   "source": [
    "## Measurement and saving"
   ]
  },
  {
   "cell_type": "code",
   "execution_count": 19,
   "metadata": {},
   "outputs": [],
   "source": [
    "import Nowack_Lab.Instruments.zurich as zurich\n",
    "zi = zurich.HF2LI1(server_port=8004, device_serial='HF2-DEV505')\n",
    "instruments = {\n",
    "    'zurich': zi,\n",
    "}"
   ]
  },
  {
   "cell_type": "markdown",
   "metadata": {},
   "source": [
    "## Zurich setup"
   ]
  },
  {
   "cell_type": "code",
   "execution_count": 20,
   "metadata": {},
   "outputs": [],
   "source": [
    "from datetime import datetime\n",
    "import time\n",
    "import zhinst"
   ]
  },
  {
   "cell_type": "code",
   "execution_count": 21,
   "metadata": {},
   "outputs": [],
   "source": [
    "daq = zhinst.ziPython.ziDAQServer('127.0.0.1', 8005, 1)"
   ]
  },
  {
   "cell_type": "code",
   "execution_count": 22,
   "metadata": {},
   "outputs": [],
   "source": [
    "ziid = 'dev505'\n",
    "timeconstant = 0.00692291283\n",
    "several = 10\n",
    "datarate = 449.73273\n",
    "clockbase = daq.getInt(f'/{ziid}/clockbase')"
   ]
  },
  {
   "cell_type": "code",
   "execution_count": 23,
   "metadata": {},
   "outputs": [],
   "source": [
    "# May need to change `ziPython` to `core`\n",
    "daq.setInt(f'/{ziid}/sigouts/*/on', 0)\n",
    "daq.setDouble(f'/{ziid}/sigouts/0/offset', 0)\n",
    "daq.setDouble(f'/{ziid}/sigouts/0/range', 1.0)\n",
    "\n",
    "daq.setDouble(f'/{ziid}/sigins/0/range', 0.1)\n",
    "daq.setDouble(f'/{ziid}/sigins/0/ac', False)\n",
    "daq.setDouble(f'/{ziid}/sigins/0/imp50', False)\n",
    "daq.setDouble(f'/{ziid}/sigins/0/diff', True)\n",
    "\n",
    "daq.setDouble(f'/{ziid}/sigins/1/range', 2.0)\n",
    "daq.setDouble(f'/{ziid}/sigins/1/ac', False)\n",
    "daq.setDouble(f'/{ziid}/sigins/1/imp50', False)\n",
    "daq.setDouble(f'/{ziid}/sigins/1/diff', True)\n",
    "\n",
    "daq.setInt(f'/{ziid}/demods/0/adcselect', 0)\n",
    "daq.setInt(f'/{ziid}/demods/1/adcselect', 1)\n",
    "daq.setInt(f'/{ziid}/demods/*/enable', 0)\n",
    "daq.setInt(f'/{ziid}/demods/0/enable', 1)\n",
    "daq.setInt(f'/{ziid}/demods/1/enable', 1)\n",
    "\n",
    "daq.setDouble(f'/{ziid}/demods/*/timeconstant', timeconstant)\n",
    "daq.setDouble(f'/{ziid}/demods/*/order', 4)\n",
    "daq.setDouble(f'/{ziid}/demods/*/rate', datarate)"
   ]
  },
  {
   "cell_type": "markdown",
   "metadata": {},
   "source": [
    "AC transport"
   ]
  },
  {
   "cell_type": "code",
   "execution_count": 24,
   "metadata": {},
   "outputs": [],
   "source": [
    "daq.setDouble(f'/{ziid}/sigouts/0/range', 10.0)\n",
    "daq.setDouble(f'/{ziid}/sigouts/0/amplitudes/0', 0.195) # x10V\n",
    "daq.setInt(f'/{ziid}/sigouts/0/enables/*', 0)\n",
    "daq.setInt(f'/{ziid}/sigouts/0/enables/0', 1)\n",
    "daq.setInt(f'/{ziid}/sigouts/0/on', 1)"
   ]
  },
  {
   "cell_type": "code",
   "execution_count": 25,
   "metadata": {},
   "outputs": [],
   "source": [
    "def daqpoll():\n",
    "    # If the wait is only one timeconstant, then the second demod is omitted.\n",
    "    # Given python delays, there should always be data after\n",
    "    # one timeconstant and then some.\n",
    "    return daq.poll(\n",
    "        recording_time_s = several * timeconstant,\n",
    "        timeout_ms = 500,\n",
    "        flags = 0\n",
    "    )"
   ]
  },
  {
   "cell_type": "code",
   "execution_count": 26,
   "metadata": {},
   "outputs": [],
   "source": [
    "def initmeasurement():\n",
    "    daq.unsubscribe('*')\n",
    "    time.sleep(several * timeconstant)\n",
    "    daq.sync()\n",
    "    beforelocaltime = datetime.now()\n",
    "    # Subscribing together means that the timestamps are more\n",
    "    # likely to be together.\n",
    "    # That is, the data indices correspond to the same timestamps\n",
    "    # between arrays and demods.\n",
    "    # This is not exact, so the arrays still have to be shifted\n",
    "    # to align correctly.\n",
    "    daq.subscribe([\n",
    "        f'/{ziid}/demods/1/sample',\n",
    "        f'/{ziid}/demods/0/sample',\n",
    "    ])\n",
    "    data = daqpoll()\n",
    "    afterlocaltime = datetime.now()\n",
    "\n",
    "    timestamp0 = data[ziid]['demods']['0']['sample']['timestamp'][0]\n",
    "    \n",
    "    return data, (beforelocaltime, afterlocaltime, timestamp0)"
   ]
  },
  {
   "cell_type": "markdown",
   "metadata": {},
   "source": [
    "## Saving"
   ]
  },
  {
   "cell_type": "code",
   "execution_count": 27,
   "metadata": {},
   "outputs": [],
   "source": [
    "# For now, metadata must not have nested objects\n",
    "metadata = yaml.safe_load('''\n",
    "name: PPMS AC resistance measurement\n",
    "author name: Alex Striff\n",
    "author email: abs299@cornell.edu\n",
    "description: >\n",
    "  Resistance vs temperature\n",
    "  measured with a Zurich HF2LI lock-in amplifier.\n",
    "format: >\n",
    "  Dataset dimension label <x> is the sweep of scales/<x>.\n",
    "  Units are given in the 'unit' attribute.\n",
    "''')"
   ]
  },
  {
   "cell_type": "code",
   "execution_count": 28,
   "metadata": {},
   "outputs": [],
   "source": [
    "def add_scale(f, name, unit, x):\n",
    "    path = 'scales/{}'.format(name)\n",
    "    f[path] = x\n",
    "    f[path].attrs['unit'] = unit\n",
    "    return x"
   ]
  },
  {
   "cell_type": "code",
   "execution_count": 29,
   "metadata": {},
   "outputs": [],
   "source": [
    "def h5_dict(group, d):\n",
    "    for k, v in d.items():\n",
    "        if type(v) is dict:\n",
    "            h5_dict(group.create_group(k), v)\n",
    "        else:\n",
    "            group[k] = v"
   ]
  },
  {
   "cell_type": "code",
   "execution_count": 30,
   "metadata": {},
   "outputs": [
    {
     "name": "stdout",
     "output_type": "stream",
     "text": [
      "./Nowack_Lab_data/2022-10-15_PPMS-AC-resistance\\2022-10-16_122349_PPMS-AC-resistance.hdf5\n",
      "./Nowack_Lab_data/2022-10-15_PPMS-AC-resistance\\2022-10-16_122349_PPMS-AC-resistance.hdf5\n",
      "Taking data.\n"
     ]
    },
    {
     "ename": "KeyboardInterrupt",
     "evalue": "",
     "output_type": "error",
     "traceback": [
      "\u001b[1;31m---------------------------------------------------------------------------\u001b[0m",
      "\u001b[1;31mKeyboardInterrupt\u001b[0m                         Traceback (most recent call last)",
      "\u001b[1;32m<ipython-input-30-f351602ee452>\u001b[0m in \u001b[0;36m<module>\u001b[1;34m()\u001b[0m\n\u001b[0;32m     65\u001b[0m                     \u001b[1;32mif\u001b[0m \u001b[0mlen\u001b[0m\u001b[1;33m(\u001b[0m\u001b[0my\u001b[0m\u001b[1;33m)\u001b[0m \u001b[1;33m-\u001b[0m \u001b[0mend\u001b[0m \u001b[1;33m<=\u001b[0m \u001b[0mlen\u001b[0m\u001b[1;33m(\u001b[0m\u001b[0mx\u001b[0m\u001b[1;33m)\u001b[0m\u001b[1;33m:\u001b[0m\u001b[1;33m\u001b[0m\u001b[0m\n\u001b[0;32m     66\u001b[0m                         \u001b[0my\u001b[0m\u001b[1;33m.\u001b[0m\u001b[0mresize\u001b[0m\u001b[1;33m(\u001b[0m\u001b[0mend\u001b[0m \u001b[1;33m+\u001b[0m \u001b[0mlen\u001b[0m\u001b[1;33m(\u001b[0m\u001b[0mx\u001b[0m\u001b[1;33m)\u001b[0m\u001b[1;33m,\u001b[0m \u001b[0maxis\u001b[0m \u001b[1;33m=\u001b[0m \u001b[1;36m0\u001b[0m\u001b[1;33m)\u001b[0m\u001b[1;33m\u001b[0m\u001b[0m\n\u001b[1;32m---> 67\u001b[1;33m                     \u001b[0my\u001b[0m\u001b[1;33m[\u001b[0m\u001b[0mend\u001b[0m\u001b[1;33m:\u001b[0m\u001b[0mnewend\u001b[0m\u001b[1;33m]\u001b[0m \u001b[1;33m=\u001b[0m \u001b[0mx\u001b[0m\u001b[1;33m\u001b[0m\u001b[0m\n\u001b[0m\u001b[0;32m     68\u001b[0m                     \u001b[0my\u001b[0m\u001b[1;33m.\u001b[0m\u001b[0mflush\u001b[0m\u001b[1;33m(\u001b[0m\u001b[1;33m)\u001b[0m\u001b[1;33m\u001b[0m\u001b[0m\n\u001b[0;32m     69\u001b[0m                     \u001b[0mendindices\u001b[0m\u001b[1;33m[\u001b[0m\u001b[0mi\u001b[0m\u001b[1;33m,\u001b[0m \u001b[0mj\u001b[0m\u001b[1;33m]\u001b[0m \u001b[1;33m=\u001b[0m \u001b[0mnewend\u001b[0m\u001b[1;33m\u001b[0m\u001b[0m\n",
      "\u001b[1;32mh5py\\_objects.pyx\u001b[0m in \u001b[0;36mh5py._objects.with_phil.wrapper\u001b[1;34m()\u001b[0m\n",
      "\u001b[1;32mh5py\\_objects.pyx\u001b[0m in \u001b[0;36mh5py._objects.with_phil.wrapper\u001b[1;34m()\u001b[0m\n",
      "\u001b[1;32mC:\\ProgramData\\Anaconda3\\lib\\site-packages\\h5py\\_hl\\dataset.py\u001b[0m in \u001b[0;36m__setitem__\u001b[1;34m(self, args, val)\u001b[0m\n\u001b[0;32m    607\u001b[0m \u001b[1;33m\u001b[0m\u001b[0m\n\u001b[0;32m    608\u001b[0m         \u001b[1;31m# Perform the dataspace selection\u001b[0m\u001b[1;33m\u001b[0m\u001b[1;33m\u001b[0m\u001b[0m\n\u001b[1;32m--> 609\u001b[1;33m         \u001b[0mselection\u001b[0m \u001b[1;33m=\u001b[0m \u001b[0msel\u001b[0m\u001b[1;33m.\u001b[0m\u001b[0mselect\u001b[0m\u001b[1;33m(\u001b[0m\u001b[0mself\u001b[0m\u001b[1;33m.\u001b[0m\u001b[0mshape\u001b[0m\u001b[1;33m,\u001b[0m \u001b[0margs\u001b[0m\u001b[1;33m,\u001b[0m \u001b[0mdsid\u001b[0m\u001b[1;33m=\u001b[0m\u001b[0mself\u001b[0m\u001b[1;33m.\u001b[0m\u001b[0mid\u001b[0m\u001b[1;33m)\u001b[0m\u001b[1;33m\u001b[0m\u001b[0m\n\u001b[0m\u001b[0;32m    610\u001b[0m \u001b[1;33m\u001b[0m\u001b[0m\n\u001b[0;32m    611\u001b[0m         \u001b[1;32mif\u001b[0m \u001b[0mselection\u001b[0m\u001b[1;33m.\u001b[0m\u001b[0mnselect\u001b[0m \u001b[1;33m==\u001b[0m \u001b[1;36m0\u001b[0m\u001b[1;33m:\u001b[0m\u001b[1;33m\u001b[0m\u001b[0m\n",
      "\u001b[1;32mC:\\ProgramData\\Anaconda3\\lib\\site-packages\\h5py\\_hl\\selections.py\u001b[0m in \u001b[0;36mselect\u001b[1;34m(shape, args, dsid)\u001b[0m\n\u001b[0;32m     63\u001b[0m \u001b[1;33m\u001b[0m\u001b[0m\n\u001b[0;32m     64\u001b[0m         \u001b[0marg\u001b[0m \u001b[1;33m=\u001b[0m \u001b[0margs\u001b[0m\u001b[1;33m[\u001b[0m\u001b[1;36m0\u001b[0m\u001b[1;33m]\u001b[0m\u001b[1;33m\u001b[0m\u001b[0m\n\u001b[1;32m---> 65\u001b[1;33m         \u001b[1;32mif\u001b[0m \u001b[0misinstance\u001b[0m\u001b[1;33m(\u001b[0m\u001b[0marg\u001b[0m\u001b[1;33m,\u001b[0m \u001b[0mSelection\u001b[0m\u001b[1;33m)\u001b[0m\u001b[1;33m:\u001b[0m\u001b[1;33m\u001b[0m\u001b[0m\n\u001b[0m\u001b[0;32m     66\u001b[0m             \u001b[1;32mif\u001b[0m \u001b[0marg\u001b[0m\u001b[1;33m.\u001b[0m\u001b[0mshape\u001b[0m \u001b[1;33m!=\u001b[0m \u001b[0mshape\u001b[0m\u001b[1;33m:\u001b[0m\u001b[1;33m\u001b[0m\u001b[0m\n\u001b[0;32m     67\u001b[0m                 \u001b[1;32mraise\u001b[0m \u001b[0mTypeError\u001b[0m\u001b[1;33m(\u001b[0m\u001b[1;34m\"Mismatched selection shape\"\u001b[0m\u001b[1;33m)\u001b[0m\u001b[1;33m\u001b[0m\u001b[0m\n",
      "\u001b[1;31mKeyboardInterrupt\u001b[0m: "
     ]
    }
   ],
   "source": [
    "initdata, inittimes = initmeasurement()\n",
    "beforelocaltime, afterlocaltime, timestamp0 = inittimes\n",
    "\n",
    "abstime_uncertainty = afterlocaltime - beforelocaltime\n",
    "abstime_uncertainty_us = abstime_uncertainty.microseconds\n",
    "abstime = beforelocaltime + 0.5*abstime_uncertainty\n",
    "abstime_str = f'{abstime.isoformat()} ± {abstime_uncertainty_us} μs'\n",
    "\n",
    "metadata['start_time'] = abstime_str\n",
    "\n",
    "filenames = []\n",
    "with multih5.Files('PPMS-AC-resistance', 'w',\n",
    "                   libver = 'latest',\n",
    "                   swmr = True,\n",
    "                  ) as fs:\n",
    "    for f in fs[0:1]: # TODO: Fix for multiple files\n",
    "        filenames.append(f.filename)\n",
    "        print(f.filename)\n",
    "        \n",
    "        # Write metadata\n",
    "        for k, v in metadata.items():\n",
    "            f.attrs[k] = v\n",
    "        \n",
    "        zisettings = daq.get('*', settingsonly=True, flat=False)\n",
    "        zigroup = f.create_group('zurich')\n",
    "        h5_dict(zigroup, zisettings)\n",
    "        zigroup['initial_timestamp'] = timestamp0\n",
    "        zigroup[f'{ziid}/clockbase'] = daq.getInt(f'/{ziid}/clockbase')\n",
    "        \n",
    "        setupgroup = f.create_group('setup')\n",
    "        setupgroup['bias_resistance'] = 75.1e3\n",
    "        \n",
    "        # Set up dataset structure\n",
    "        demod_ns = ['0', '1']\n",
    "        sample_keys = [\n",
    "            'timestamp', 'x', 'y', 'frequency',\n",
    "            'phase', 'dio', 'trigger', 'auxin0', 'auxin1',\n",
    "        ]\n",
    "        demods = [f.create_group(f'/data/zurich/{ziid}/demods/{n}/sample') for n in demod_ns]\n",
    "        for demod, n in zip(demods, demod_ns):\n",
    "            for key in sample_keys:\n",
    "                example = initdata[ziid]['demods'][n]['sample'][key]\n",
    "                demod.create_dataset(\n",
    "                    key,\n",
    "                    example.shape,\n",
    "                    maxshape = (None,) * example.ndim, # Resizable up to HDF5 per-axis limit of 2**64 elements\n",
    "                    dtype = example.dtype\n",
    "                )\n",
    "        \n",
    "        # After creating datasets\n",
    "        f.swmr_mode = True\n",
    "        \n",
    "        # Save data and extend arrays\n",
    "        endindices = np.zeros(shape = (len(demods), len(sample_keys)), dtype = int)\n",
    "        \n",
    "        print(\"Taking data.\")\n",
    "        while True:\n",
    "            data = daqpoll()\n",
    "            for i, (demod, n) in enumerate(zip(demods, demod_ns)):\n",
    "                for j, key in enumerate(sample_keys):\n",
    "                    y = demod[key]\n",
    "                    end = endindices[i, j]\n",
    "                    x = data[ziid]['demods'][n]['sample'][key]\n",
    "                    newend = end + len(x)\n",
    "                    if len(y) - end <= len(x):\n",
    "                        y.resize(end + len(x), axis = 0)\n",
    "                    y[end:newend] = x\n",
    "                    y.flush()\n",
    "                    endindices[i, j] = newend"
   ]
  }
 ],
 "metadata": {
  "kernelspec": {
   "display_name": "Python 3",
   "language": "python",
   "name": "python3"
  },
  "language_info": {
   "codemirror_mode": {
    "name": "ipython",
    "version": 3
   },
   "file_extension": ".py",
   "mimetype": "text/x-python",
   "name": "python",
   "nbconvert_exporter": "python",
   "pygments_lexer": "ipython3",
   "version": "3.6.5"
  }
 },
 "nbformat": 4,
 "nbformat_minor": 4
}
