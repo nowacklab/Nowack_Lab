{
 "cells": [
  {
   "cell_type": "code",
   "execution_count": 1,
   "metadata": {},
   "outputs": [],
   "source": [
    "using HDF5\n",
    "using Statistics\n",
    "using Measurements"
   ]
  },
  {
   "cell_type": "code",
   "execution_count": 2,
   "metadata": {},
   "outputs": [
    {
     "data": {
      "text/plain": [
       "Plots.GRBackend()"
      ]
     },
     "execution_count": 2,
     "metadata": {},
     "output_type": "execute_result"
    }
   ],
   "source": [
    "using Plots\n",
    "gr(\n",
    "    # show = :ijulia, # Dynamically updating plots\n",
    "    key = false,\n",
    "    fmt = :png,\n",
    "    size = (640, 480)\n",
    ")"
   ]
  },
  {
   "cell_type": "code",
   "execution_count": 3,
   "metadata": {},
   "outputs": [
    {
     "data": {
      "text/plain": [
       "T (generic function with 1 method)"
      ]
     },
     "execution_count": 3,
     "metadata": {},
     "output_type": "execute_result"
    }
   ],
   "source": [
    "T(auxV; Tmax = 310.0, Tmin=0.0) = Tmin + (Tmax - Tmin) * (auxV / 10.0)"
   ]
  },
  {
   "cell_type": "code",
   "execution_count": 54,
   "metadata": {},
   "outputs": [],
   "source": [
    "using Dates"
   ]
  },
  {
   "cell_type": "code",
   "execution_count": 76,
   "metadata": {},
   "outputs": [
    {
     "data": {
      "image/png": "[encoded data removed]"
     },
     "execution_count": 76,
     "metadata": {},
     "output_type": "execute_result"
    }
   ],
   "source": [
    "datadir = joinpath(\"Nowack_Lab_data\", \"2022-10-20_PPMS-slow-AC-resistance\")\n",
    "\n",
    "activeflag = true\n",
    "\n",
    "layout = @layout [\n",
    "    a{1.0w}\n",
    "    b{1.0w}\n",
    "    c{0.5w} d{0.5w}\n",
    "]\n",
    "\n",
    "latestdata = readdir(datadir)[end]\n",
    "# latestdata = \"2022-10-21_183305_PPMS-AC-resistance.hdf5\"\n",
    "datafile = joinpath(datadir, latestdata)\n",
    "start_time = \"\"\n",
    "\n",
    "# opening file in loop is perhaps sub-optimal, but works for now.\n",
    "h5open(datafile, \"r\"; swmr=true) do f\n",
    "    meta = attrs(f)\n",
    "    \n",
    "    t0 = f[\"/zurich/initial_timestamp\"][]\n",
    "    tb = f[\"/zurich/dev505/clockbase\"][]\n",
    "    Rb = f[\"/setup/bias_resistance\"][]\n",
    "\n",
    "    tV = f[\"/data/zurich/dev505/demods/0/sample/timestamp\"][:]\n",
    "    tI = f[\"/data/zurich/dev505/demods/1/sample/timestamp\"][:]\n",
    "\n",
    "    commontimes = intersect(tV, tI)\n",
    "    iV = indexin(commontimes, tV)\n",
    "    iI = indexin(commontimes, tI)\n",
    "    ts = tV[iV] # .== tI[iI]\n",
    "\n",
    "    Vx = f[\"/data/zurich/dev505/demods/0/sample/x\"][:][iV]\n",
    "    Vy = f[\"/data/zurich/dev505/demods/0/sample/y\"][:][iV]\n",
    "    Ix = f[\"/data/zurich/dev505/demods/1/sample/x\"][:][iI]\n",
    "    Iy = f[\"/data/zurich/dev505/demods/1/sample/y\"][:][iI]\n",
    "\n",
    "    aux0 = f[\"/data/zurich/dev505/demods/0/sample/auxin0\"][:][iV]\n",
    "    aux1 = f[\"/data/zurich/dev505/demods/0/sample/auxin1\"][:][iV]\n",
    "\n",
    "    tt = meta[\"start_time\"]\n",
    "    dt = DateTime(tt[1:19], ISODateTimeFormat) + Microsecond(parse(Int, tt[21:26]))\n",
    "    t = (ts .- t0) ./ tb\n",
    "    blipstart = DateTime(\"2022-10-21T16:05\", ISODateTimeFormat) - dt\n",
    "    blipend = DateTime(\"2022-10-21T16:06\", ISODateTimeFormat) - dt\n",
    "    \n",
    "    A = 100.0 # SR560 gain\n",
    "    G = 100.0 # V/A transimpedance gain\n",
    "    R = (π / log(2)) .* (Vx ./ A) ./ (-Ix ./ G) # kΩ\n",
    "\n",
    "    freq = f[\"/data/zurich/dev505/demods/0/sample/frequency\"][end]\n",
    "    title = join([latestdata, \"$(freq) Hz\"], \"\\n\")\n",
    "    # title = latestdata\n",
    "\n",
    "    Ts = T.(aux0; Tmax=12.0)\n",
    "\n",
    "    pRT = plot(Ts, R;\n",
    "        xlabel = \"T (K)\",\n",
    "        ylabel = \"R_s (Ω)\",\n",
    "        plot_title = title,\n",
    "        plot_titlefontsize = 12,\n",
    "    )\n",
    "end"
   ]
  },
  {
   "cell_type": "code",
   "execution_count": 75,
   "metadata": {},
   "outputs": [],
   "source": [
    "savefig(\"ns2-sheet-resistance-warming-transition.png\")"
   ]
  },
  {
   "cell_type": "code",
   "execution_count": 12,
   "metadata": {},
   "outputs": [
    {
     "data": {
      "text/plain": [
       "\"2022-10-21T15:05:42.637056 ± 80466 μs\""
      ]
     },
     "execution_count": 12,
     "metadata": {},
     "output_type": "execute_result"
    }
   ],
   "source": [
    "tt = \"2022-10-21T15:05:42.637056 ± 80466 μs\""
   ]
  },
  {
   "cell_type": "code",
   "execution_count": 20,
   "metadata": {},
   "outputs": [],
   "source": [
    "using Dates"
   ]
  },
  {
   "cell_type": "code",
   "execution_count": 43,
   "metadata": {},
   "outputs": [
    {
     "data": {
      "text/plain": [
       "2022-10-21T15:05:42.637"
      ]
     },
     "execution_count": 43,
     "metadata": {},
     "output_type": "execute_result"
    }
   ],
   "source": [
    "dt = DateTime(tt[1:19], ISODateTimeFormat) + Microsecond(parse(Int, tt[21:26]))"
   ]
  },
  {
   "cell_type": "code",
   "execution_count": 53,
   "metadata": {},
   "outputs": [
    {
     "data": {
      "text/plain": [
       "3617363 milliseconds"
      ]
     },
     "execution_count": 53,
     "metadata": {},
     "output_type": "execute_result"
    }
   ],
   "source": [
    "blipstart = DateTime(\"2022-10-21T16:05\", ISODateTimeFormat) - dt\n",
    "blipend = DateTime(\"2022-10-21T16:06\", ISODateTimeFormat) - dt"
   ]
  }
 ],
 "metadata": {
  "jupytext": {
   "encoding": "# -*- coding: utf-8 -*-",
   "formats": "ipynb,jl:light"
  },
  "kernelspec": {
   "display_name": "Julia 1.7.2",
   "language": "julia",
   "name": "julia-1.7"
  },
  "language_info": {
   "file_extension": ".jl",
   "mimetype": "application/julia",
   "name": "julia",
   "version": "1.7.2"
  }
 },
 "nbformat": 4,
 "nbformat_minor": 4
}
